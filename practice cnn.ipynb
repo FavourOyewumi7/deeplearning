{
 "cells": [
  {
   "cell_type": "code",
   "execution_count": 17,
   "metadata": {},
   "outputs": [],
   "source": [
    "import torch.nn as nn\n",
    "import os\n",
    "import glob\n",
    "import torch"
   ]
  },
  {
   "cell_type": "code",
   "execution_count": 5,
   "metadata": {},
   "outputs": [],
   "source": [
    "path = r'C:\\Users\\user\\OneDrive\\Documents\\code\\face-mask-detector\\face-mask-detector\\dataset'"
   ]
  },
  {
   "cell_type": "code",
   "execution_count": 10,
   "metadata": {},
   "outputs": [],
   "source": [
    "images = glob.glob(os.path.join(path, '*//*.jpg'))"
   ]
  },
  {
   "cell_type": "code",
   "execution_count": 14,
   "metadata": {},
   "outputs": [
    {
     "name": "stdout",
     "output_type": "stream",
     "text": [
      "Total no of files are 1376\n"
     ]
    }
   ],
   "source": [
    "print('Total no of files are {}'.format(len(images)))\n"
   ]
  },
  {
   "cell_type": "code",
   "execution_count": 1,
   "metadata": {},
   "outputs": [],
   "source": [
    "from sklearn.model_selection import train_test_split"
   ]
  },
  {
   "cell_type": "code",
   "execution_count": 161,
   "metadata": {},
   "outputs": [],
   "source": [
    "from tensorflow.keras.datasets import fashion_mnist\n",
    "from tensorflow.keras.optimizers import SGD\n",
    "from tensorflow.keras.activations import relu, softmax\n",
    "from sklearn.metrics import classification_report\n",
    "from tensorflow.keras.utils import to_categorical\n",
    "from tensorflow.keras.models import Sequential\n",
    "import numpy as np\n",
    "from tensorflow.keras.layers import Conv2D, Flatten, Dropout, Dense, MaxPooling2D\n",
    "from tensorflow.keras.losses import categorical_crossentropy\n",
    "from matplotlib.pyplot import imshow"
   ]
  },
  {
   "cell_type": "code",
   "execution_count": 154,
   "metadata": {},
   "outputs": [],
   "source": [
    "img_cols , img_rows =28,28\n",
    "num_classes = 10"
   ]
  },
  {
   "cell_type": "code",
   "execution_count": 151,
   "metadata": {},
   "outputs": [],
   "source": [
    "((trainX, trainY), (testX, testY)) = fashion_mnist.load_data()"
   ]
  },
  {
   "cell_type": "code",
   "execution_count": 159,
   "metadata": {},
   "outputs": [
    {
     "data": {
      "text/plain": [
       "5"
      ]
     },
     "execution_count": 159,
     "metadata": {},
     "output_type": "execute_result"
    },
    {
     "data": {
      "image/png": "[encoded data removed]",
      "text/plain": [
       "<Figure size 432x288 with 1 Axes>"
      ]
     },
     "metadata": {
      "needs_background": "light"
     },
     "output_type": "display_data"
    }
   ],
   "source": [
    "imshow(trainX[59999])\n",
    "trainY[59999]"
   ]
  },
  {
   "cell_type": "code",
   "execution_count": 135,
   "metadata": {},
   "outputs": [
    {
     "data": {
      "text/plain": [
       "(60000, 28, 28)"
      ]
     },
     "execution_count": 135,
     "metadata": {},
     "output_type": "execute_result"
    }
   ],
   "source": [
    "trainX.shape"
   ]
  },
  {
   "cell_type": "code",
   "execution_count": 136,
   "metadata": {},
   "outputs": [],
   "source": [
    "\n",
    "    train_Y = to_categorical(trainY, num_classes)\n",
    "    test_Y = to_categorical(testY, num_classes)\n",
    "    \n",
    "    train_X = trainX.reshape(trainX.shape[0], img_cols, img_rows, 1)\n",
    "    test_X = testX.reshape(testX.shape[0], img_cols, img_rows, 1)\n",
    "    \n",
    "    train_X = train_X.astype(\"float32\") / 255.0\n",
    "    test_X = test_X.astype(\"float32\") / 255.0\n",
    "    \n",
    "  \n",
    "    \n",
    "    \n"
   ]
  },
  {
   "cell_type": "code",
   "execution_count": 137,
   "metadata": {},
   "outputs": [
    {
     "data": {
      "text/plain": [
       "(60000, 28, 28, 1)"
      ]
     },
     "execution_count": 137,
     "metadata": {},
     "output_type": "execute_result"
    }
   ],
   "source": [
    "train_X.shape"
   ]
  },
  {
   "cell_type": "code",
   "execution_count": 138,
   "metadata": {},
   "outputs": [],
   "source": [
    "\n",
    "\n",
    "batch = 24\n",
    "epoch =20\n"
   ]
  },
  {
   "cell_type": "code",
   "execution_count": 139,
   "metadata": {},
   "outputs": [],
   "source": [
    "layers = Sequential()"
   ]
  },
  {
   "cell_type": "code",
   "execution_count": 140,
   "metadata": {},
   "outputs": [],
   "source": [
    "layers.add(Conv2D(24, strides = (2,2),kernel_size =(3,3), activation =relu, input_shape =(img_rows, img_cols,1)))\n",
    "layers.add(Conv2D(24, activation =relu, kernel_size = (3,3)))\n",
    "layers.add(MaxPooling2D(pool_size=(2, 2)))\n",
    "layers.add(Flatten())\n",
    "\n",
    "layers.add(Dense(128, activation =relu))\n",
    "layers.add(Dropout(0.5))\n",
    "layers.add(Dense(num_classes, activation = softmax))"
   ]
  },
  {
   "cell_type": "code",
   "execution_count": 141,
   "metadata": {},
   "outputs": [
    {
     "name": "stdout",
     "output_type": "stream",
     "text": [
      "Model: \"sequential_15\"\n",
      "_________________________________________________________________\n",
      "Layer (type)                 Output Shape              Param #   \n",
      "=================================================================\n",
      "conv2d_33 (Conv2D)           (None, 13, 13, 24)        240       \n",
      "_________________________________________________________________\n",
      "conv2d_34 (Conv2D)           (None, 11, 11, 24)        5208      \n",
      "_________________________________________________________________\n",
      "max_pooling2d_7 (MaxPooling2 (None, 5, 5, 24)          0         \n",
      "_________________________________________________________________\n",
      "flatten_12 (Flatten)         (None, 600)               0         \n",
      "_________________________________________________________________\n",
      "dense_22 (Dense)             (None, 128)               76928     \n",
      "_________________________________________________________________\n",
      "dropout_11 (Dropout)         (None, 128)               0         \n",
      "_________________________________________________________________\n",
      "dense_23 (Dense)             (None, 10)                1290      \n",
      "=================================================================\n",
      "Total params: 83,666\n",
      "Trainable params: 83,666\n",
      "Non-trainable params: 0\n",
      "_________________________________________________________________\n"
     ]
    }
   ],
   "source": [
    "layers.summary()"
   ]
  },
  {
   "cell_type": "code",
   "execution_count": 142,
   "metadata": {},
   "outputs": [],
   "source": [
    "layers.compile(loss=categorical_crossentropy, optimizer = 'SGD', metrics =[ 'accuracy'])"
   ]
  },
  {
   "cell_type": "code",
   "execution_count": 143,
   "metadata": {},
   "outputs": [
    {
     "name": "stdout",
     "output_type": "stream",
     "text": [
      "Epoch 1/20\n",
      "2500/2500 [==============================] - 46s 18ms/step - loss: 0.9370 - accuracy: 0.6630 - val_loss: 0.6008 - val_accuracy: 0.7820\n",
      "Epoch 2/20\n",
      "2500/2500 [==============================] - 39s 16ms/step - loss: 0.6061 - accuracy: 0.7793 - val_loss: 0.5254 - val_accuracy: 0.7977\n",
      "Epoch 3/20\n",
      "2500/2500 [==============================] - 43s 17ms/step - loss: 0.5441 - accuracy: 0.8008 - val_loss: 0.4736 - val_accuracy: 0.8200\n",
      "Epoch 4/20\n",
      "2500/2500 [==============================] - 42s 17ms/step - loss: 0.5059 - accuracy: 0.8157 - val_loss: 0.4470 - val_accuracy: 0.8335\n",
      "Epoch 5/20\n",
      "2500/2500 [==============================] - 40s 16ms/step - loss: 0.4811 - accuracy: 0.8249 - val_loss: 0.4365 - val_accuracy: 0.8350\n",
      "Epoch 6/20\n",
      "2500/2500 [==============================] - 41s 17ms/step - loss: 0.4600 - accuracy: 0.8311 - val_loss: 0.4219 - val_accuracy: 0.8397\n",
      "Epoch 7/20\n",
      "2500/2500 [==============================] - 46s 19ms/step - loss: 0.4422 - accuracy: 0.8383 - val_loss: 0.4036 - val_accuracy: 0.8504\n",
      "Epoch 8/20\n",
      "2500/2500 [==============================] - 44s 18ms/step - loss: 0.4297 - accuracy: 0.8447 - val_loss: 0.3929 - val_accuracy: 0.8543\n",
      "Epoch 9/20\n",
      "2500/2500 [==============================] - 42s 17ms/step - loss: 0.4155 - accuracy: 0.8488 - val_loss: 0.3838 - val_accuracy: 0.8582\n",
      "Epoch 10/20\n",
      "2500/2500 [==============================] - 42s 17ms/step - loss: 0.4058 - accuracy: 0.8521 - val_loss: 0.3706 - val_accuracy: 0.8644\n",
      "Epoch 11/20\n",
      "2500/2500 [==============================] - 45s 18ms/step - loss: 0.3979 - accuracy: 0.8552 - val_loss: 0.3663 - val_accuracy: 0.8659 loss: 0.3980 - accuracy -\n",
      "Epoch 12/20\n",
      "2500/2500 [==============================] - 43s 17ms/step - loss: 0.3913 - accuracy: 0.8554 - val_loss: 0.3732 - val_accuracy: 0.8614\n",
      "Epoch 13/20\n",
      "2500/2500 [==============================] - 40s 16ms/step - loss: 0.3841 - accuracy: 0.8603 - val_loss: 0.3610 - val_accuracy: 0.8689\n",
      "Epoch 14/20\n",
      "2500/2500 [==============================] - 45s 18ms/step - loss: 0.3738 - accuracy: 0.8636 - val_loss: 0.3562 - val_accuracy: 0.8684\n",
      "Epoch 15/20\n",
      "2500/2500 [==============================] - 48s 19ms/step - loss: 0.3696 - accuracy: 0.8648 - val_loss: 0.3501 - val_accuracy: 0.8701\n",
      "Epoch 16/20\n",
      "2500/2500 [==============================] - 41s 17ms/step - loss: 0.3645 - accuracy: 0.8672 - val_loss: 0.3443 - val_accuracy: 0.8756\n",
      "Epoch 17/20\n",
      "2500/2500 [==============================] - 42s 17ms/step - loss: 0.3586 - accuracy: 0.8687 - val_loss: 0.3436 - val_accuracy: 0.8739\n",
      "Epoch 18/20\n",
      "2500/2500 [==============================] - 46s 18ms/step - loss: 0.3559 - accuracy: 0.8695 - val_loss: 0.3480 - val_accuracy: 0.8713\n",
      "Epoch 19/20\n",
      "2500/2500 [==============================] - 43s 17ms/step - loss: 0.3503 - accuracy: 0.8721 - val_loss: 0.3412 - val_accuracy: 0.8758\n",
      "Epoch 20/20\n",
      "2500/2500 [==============================] - 43s 17ms/step - loss: 0.3441 - accuracy: 0.8734 - val_loss: 0.3381 - val_accuracy: 0.8767\n"
     ]
    },
    {
     "data": {
      "text/plain": [
       "<tensorflow.python.keras.callbacks.History at 0x1cb8252b130>"
      ]
     },
     "execution_count": 143,
     "metadata": {},
     "output_type": "execute_result"
    }
   ],
   "source": [
    "layers.fit(train_X, train_Y,  batch_size =batch, epochs =epoch, validation_data = (test_X, test_Y))"
   ]
  },
  {
   "cell_type": "code",
   "execution_count": 144,
   "metadata": {},
   "outputs": [],
   "source": [
    "vals = layers.predict(test_X)"
   ]
  },
  {
   "cell_type": "code",
   "execution_count": 147,
   "metadata": {},
   "outputs": [],
   "source": [
    "labelNames = [\"top\", \"trouser\", \"pullover\", \"dress\", \"coat\",\n",
    "\t\"sandal\", \"shirt\", \"sneaker\", \"bag\", \"ankle boot\"]"
   ]
  },
  {
   "cell_type": "code",
   "execution_count": 145,
   "metadata": {},
   "outputs": [],
   "source": [
    "fad = np.argmax(vals, axis=1)"
   ]
  },
  {
   "cell_type": "code",
   "execution_count": 148,
   "metadata": {},
   "outputs": [
    {
     "name": "stdout",
     "output_type": "stream",
     "text": [
      "              precision    recall  f1-score   support\n",
      "\n",
      "         top       0.83      0.83      0.83      1000\n",
      "     trouser       0.99      0.96      0.98      1000\n",
      "    pullover       0.79      0.83      0.81      1000\n",
      "       dress       0.84      0.91      0.88      1000\n",
      "        coat       0.79      0.78      0.79      1000\n",
      "      sandal       0.97      0.97      0.97      1000\n",
      "       shirt       0.69      0.60      0.65      1000\n",
      "     sneaker       0.92      0.96      0.94      1000\n",
      "         bag       0.96      0.98      0.97      1000\n",
      "  ankle boot       0.97      0.93      0.95      1000\n",
      "\n",
      "    accuracy                           0.88     10000\n",
      "   macro avg       0.88      0.88      0.88     10000\n",
      "weighted avg       0.88      0.88      0.88     10000\n",
      "\n"
     ]
    }
   ],
   "source": [
    "print(classification_report(test_Y.argmax(axis=1), fad,\n",
    "\ttarget_names=labelNames))"
   ]
  },
  {
   "cell_type": "code",
   "execution_count": 149,
   "metadata": {},
   "outputs": [
    {
     "data": {
      "text/plain": [
       "array([9, 2, 1, ..., 8, 1, 5], dtype=uint8)"
      ]
     },
     "execution_count": 149,
     "metadata": {},
     "output_type": "execute_result"
    }
   ],
   "source": [
    "testY"
   ]
  },
  {
   "cell_type": "code",
   "execution_count": null,
   "metadata": {},
   "outputs": [],
   "source": []
  }
 ],
 "metadata": {
  "kernelspec": {
   "display_name": "Python 3",
   "language": "python",
   "name": "python3"
  },
  "language_info": {
   "codemirror_mode": {
    "name": "ipython",
    "version": 3
   },
   "file_extension": ".py",
   "mimetype": "text/x-python",
   "name": "python",
   "nbconvert_exporter": "python",
   "pygments_lexer": "ipython3",
   "version": "3.8.3"
  }
 },
 "nbformat": 4,
 "nbformat_minor": 4
}
