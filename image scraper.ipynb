{
 "cells": [
  {
   "cell_type": "code",
   "execution_count": 36,
   "metadata": {},
   "outputs": [],
   "source": [
    "import requests as re\n",
    "from bs4 import BeautifulSoup\n",
    "import os"
   ]
  },
  {
   "cell_type": "code",
   "execution_count": 77,
   "metadata": {},
   "outputs": [],
   "source": [
    "link = 'https://unsplash.com/s/photos/2021'"
   ]
  },
  {
   "cell_type": "code",
   "execution_count": 78,
   "metadata": {},
   "outputs": [],
   "source": [
    "content = re.get(link)"
   ]
  },
  {
   "cell_type": "code",
   "execution_count": 79,
   "metadata": {},
   "outputs": [
    {
     "data": {
      "text/plain": [
       "200"
      ]
     },
     "execution_count": 79,
     "metadata": {},
     "output_type": "execute_result"
    }
   ],
   "source": [
    "content.status_code"
   ]
  },
  {
   "cell_type": "code",
   "execution_count": 80,
   "metadata": {},
   "outputs": [],
   "source": [
    "text = content.content"
   ]
  },
  {
   "cell_type": "code",
   "execution_count": null,
   "metadata": {},
   "outputs": [],
   "source": []
  },
  {
   "cell_type": "code",
   "execution_count": 81,
   "metadata": {},
   "outputs": [],
   "source": [
    "soup = BeautifulSoup(text, 'html.parser')"
   ]
  },
  {
   "cell_type": "code",
   "execution_count": 87,
   "metadata": {},
   "outputs": [],
   "source": [
    "images = soup.find_all('img')\n"
   ]
  },
  {
   "cell_type": "code",
   "execution_count": null,
   "metadata": {},
   "outputs": [],
   "source": []
  },
  {
   "cell_type": "code",
   "execution_count": 84,
   "metadata": {},
   "outputs": [],
   "source": [
    "sources = []\n",
    "for image in images:\n",
    "    sets = image.get('src')\n",
    "    \n",
    "    sources.append(sets)"
   ]
  },
  {
   "cell_type": "code",
   "execution_count": 85,
   "metadata": {},
   "outputs": [
    {
     "data": {
      "text/plain": [
       "['https://images.unsplash.com/photo-1605812830374-16edfbeb5b60?ixid=MXwxMjA3fDB8MHxzZWFyY2h8MXx8MjAyMXxlbnwwfHwwfA%3D%3D&ixlib=rb-1.2.1&w=1000&q=80',\n",
       " 'https://images.unsplash.com/photo-1526498460520-4c246339dccb?ixid=MXwxMjA3fDB8MHxzZWFyY2h8Mnx8MjAyMXxlbnwwfHwwfA%3D%3D&ixlib=rb-1.2.1&w=1000&q=80',\n",
       " 'https://images.unsplash.com/photo-1577468845449-fe85c4725017?ixid=MXwxMjA3fDB8MHxzZWFyY2h8M3x8MjAyMXxlbnwwfHwwfA%3D%3D&ixlib=rb-1.2.1&w=1000&q=80',\n",
       " 'https://images.unsplash.com/photo-1605812830374-16edfbeb5b60?ixid=MXwxMjA3fDB8MHxzZWFyY2h8MXx8MjAyMXxlbnwwfHwwfA%3D%3D&ixlib=rb-1.2.1&w=1000&q=80',\n",
       " 'https://images.unsplash.com/photo-1577468845449-fe85c4725017?ixid=MXwxMjA3fDB8MHxzZWFyY2h8M3x8MjAyMXxlbnwwfHwwfA%3D%3D&ixlib=rb-1.2.1&w=1000&q=80',\n",
       " 'https://images.unsplash.com/photo-1526498460520-4c246339dccb?ixid=MXwxMjA3fDB8MHxzZWFyY2h8Mnx8MjAyMXxlbnwwfHwwfA%3D%3D&ixlib=rb-1.2.1&w=1000&q=80',\n",
       " 'https://images.unsplash.com/photo-1605812830374-16edfbeb5b60?ixid=MXwxMjA3fDB8MHxzZWFyY2h8MXx8MjAyMXxlbnwwfHwwfA%3D%3D&ixlib=rb-1.2.1&w=1000&q=80',\n",
       " 'https://images.unsplash.com/photo-1526498460520-4c246339dccb?ixid=MXwxMjA3fDB8MHxzZWFyY2h8Mnx8MjAyMXxlbnwwfHwwfA%3D%3D&ixlib=rb-1.2.1&w=1000&q=80',\n",
       " 'https://images.unsplash.com/photo-1577468845449-fe85c4725017?ixid=MXwxMjA3fDB8MHxzZWFyY2h8M3x8MjAyMXxlbnwwfHwwfA%3D%3D&ixlib=rb-1.2.1&w=1000&q=80']"
      ]
     },
     "execution_count": 85,
     "metadata": {},
     "output_type": "execute_result"
    }
   ],
   "source": [
    "sources"
   ]
  },
  {
   "cell_type": "code",
   "execution_count": 73,
   "metadata": {},
   "outputs": [],
   "source": [
    "num = []\n",
    "for i in range(len(sources)):\n",
    "    isi = str(i)\n",
    "    num.append(isi)"
   ]
  },
  {
   "cell_type": "code",
   "execution_count": 74,
   "metadata": {},
   "outputs": [],
   "source": [
    "\n",
    "for link,nu in zip(sources,num):\n",
    "    img =re.get(link)\n",
    "    img_content = img.content\n",
    "    filename = nu+'.jpg'\n",
    "    with open(filename, 'wb') as f:\n",
    "        f.write(img_content)"
   ]
  },
  {
   "cell_type": "code",
   "execution_count": 75,
   "metadata": {},
   "outputs": [
    {
     "data": {
      "text/plain": [
       "['0',\n",
       " '1',\n",
       " '2',\n",
       " '3',\n",
       " '4',\n",
       " '5',\n",
       " '6',\n",
       " '7',\n",
       " '8',\n",
       " '9',\n",
       " '10',\n",
       " '11',\n",
       " '12',\n",
       " '13',\n",
       " '14']"
      ]
     },
     "execution_count": 75,
     "metadata": {},
     "output_type": "execute_result"
    }
   ],
   "source": [
    "num"
   ]
  },
  {
   "cell_type": "code",
   "execution_count": null,
   "metadata": {},
   "outputs": [],
   "source": []
  }
 ],
 "metadata": {
  "kernelspec": {
   "display_name": "Python 3",
   "language": "python",
   "name": "python3"
  },
  "language_info": {
   "codemirror_mode": {
    "name": "ipython",
    "version": 3
   },
   "file_extension": ".py",
   "mimetype": "text/x-python",
   "name": "python",
   "nbconvert_exporter": "python",
   "pygments_lexer": "ipython3",
   "version": "3.8.3"
  }
 },
 "nbformat": 4,
 "nbformat_minor": 4
}
